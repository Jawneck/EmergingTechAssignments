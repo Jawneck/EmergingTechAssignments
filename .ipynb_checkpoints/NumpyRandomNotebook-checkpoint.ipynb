{
 "cells": [
  {
   "cell_type": "markdown",
   "metadata": {},
   "source": [
    "# Numpy Random"
   ]
  },
  {
   "cell_type": "markdown",
   "metadata": {},
   "source": [
    "NumPy is the fundamental package for scientific computing with Python. The random sampling package (numpy.random) is primarily used in generating random data. There are four areas to this package.\n",
    " - Simple random data\n",
    " - Permutations\n",
    " - Distributions\n",
    " - Random generator"
   ]
  },
  {
   "cell_type": "markdown",
   "metadata": {},
   "source": [
    "## Simple Random Data"
   ]
  },
  {
   "cell_type": "markdown",
   "metadata": {},
   "source": [
    "### Example 1 - numpy.random.rand\n",
    "Random values in a given shape.\n",
    "rand(d0, d1, ..., dn)"
   ]
  },
  {
   "cell_type": "markdown",
   "metadata": {},
   "source": [
    "......."
   ]
  },
  {
   "cell_type": "code",
   "execution_count": 3,
   "metadata": {},
   "outputs": [
    {
     "data": {
      "text/plain": [
       "array([[[-1.38172281, -0.19587649, -1.23963641, -0.67674423],\n",
       "        [ 1.66333825, -0.24662556,  0.16122876, -0.48516322],\n",
       "        [-2.02516274, -0.1353573 , -0.34301133,  1.36914819],\n",
       "        [-0.49611232,  0.198664  , -1.41916943, -0.20012395],\n",
       "        [ 1.23190106,  2.12028809, -0.44877238, -0.06279948],\n",
       "        [-1.28191434,  0.58986058,  0.53866787,  0.20395425]]])"
      ]
     },
     "execution_count": 3,
     "metadata": {},
     "output_type": "execute_result"
    }
   ],
   "source": [
    "import numpy as np\n",
    "\n",
    "np.random.randn(1,6,4)"
   ]
  },
  {
   "cell_type": "markdown",
   "metadata": {},
   "source": [
    "### Example 2 - numpy.random.randn\n",
    "creates an array of specified shape and fills it with random values as per standard normal distribution.\n",
    "numpy.random.randn(d0, d1, ..., dn) "
   ]
  },
  {
   "cell_type": "markdown",
   "metadata": {},
   "source": [
    "......"
   ]
  },
  {
   "cell_type": "code",
   "execution_count": 4,
   "metadata": {},
   "outputs": [
    {
     "data": {
      "text/plain": [
       "array([[[0.29238625, 0.39447856, 0.44336978, 0.96888214],\n",
       "        [0.22279668, 0.10832743, 0.46706559, 0.89315987],\n",
       "        [0.74914119, 0.70399812, 0.70310699, 0.49613076],\n",
       "        [0.23579302, 0.19233779, 0.40177169, 0.45218997],\n",
       "        [0.96772984, 0.74476982, 0.98677547, 0.51476979],\n",
       "        [0.49460008, 0.00843212, 0.17330876, 0.55278692]]])"
      ]
     },
     "execution_count": 4,
     "metadata": {},
     "output_type": "execute_result"
    }
   ],
   "source": [
    "import numpy as np\n",
    "\n",
    "np.random.rand(1,6,4)"
   ]
  },
  {
   "cell_type": "markdown",
   "metadata": {},
   "source": [
    "### Example 3 - numpy.random.bytes\n",
    "Returns random bytes to the length that is specified. Length being the number of random bytes.\n",
    "numpy.random.bytes(length)"
   ]
  },
  {
   "cell_type": "code",
   "execution_count": 5,
   "metadata": {},
   "outputs": [
    {
     "data": {
      "text/plain": [
       "b'n\\xc7v\\xe8\\xa4K\\x0f\\xdd\\xf8j\\xce\\x08\\xd4\\x8466\\x9f\\xe3R\\xc2'"
      ]
     },
     "execution_count": 5,
     "metadata": {},
     "output_type": "execute_result"
    }
   ],
   "source": [
    "import numpy as np\n",
    "\n",
    "np.random.bytes(20)"
   ]
  },
  {
   "cell_type": "markdown",
   "metadata": {},
   "source": [
    "## Permutations"
   ]
  },
  {
   "cell_type": "markdown",
   "metadata": {},
   "source": [
    "## Distributions"
   ]
  }
 ],
 "metadata": {
  "kernelspec": {
   "display_name": "Python 3",
   "language": "python",
   "name": "python3"
  },
  "language_info": {
   "codemirror_mode": {
    "name": "ipython",
    "version": 3
   },
   "file_extension": ".py",
   "mimetype": "text/x-python",
   "name": "python",
   "nbconvert_exporter": "python",
   "pygments_lexer": "ipython3",
   "version": "3.7.0"
  }
 },
 "nbformat": 4,
 "nbformat_minor": 2
}
