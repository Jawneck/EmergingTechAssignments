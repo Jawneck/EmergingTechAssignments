{
 "cells": [
  {
   "cell_type": "markdown",
   "metadata": {},
   "source": [
    "# Numpy Random"
   ]
  },
  {
   "cell_type": "markdown",
   "metadata": {},
   "source": [
    "NumPy is the fundamental package for scientific computing with Python. The random sampling package (numpy.random) is primarily used in generating random data. There are four areas to this package.\n",
    " - Simple random data\n",
    " - Permutations\n",
    " - Distributions\n",
    " - Random generator"
   ]
  },
  {
   "cell_type": "markdown",
   "metadata": {},
   "source": [
    "## Simple Random Data"
   ]
  },
  {
   "cell_type": "markdown",
   "metadata": {},
   "source": [
    "### Example 1 - numpy.random.rand\n",
    "Creates an array of specified shape and fills it with random values.\n",
    "<br>rand(d0, d1, ..., dn)\n",
    "<br>numpy.random.rand generates samples from the uniform distribution."
   ]
  },
  {
   "cell_type": "code",
   "execution_count": 72,
   "metadata": {},
   "outputs": [
    {
     "data": {
      "text/plain": [
       "array([[[-0.70478053,  0.84766027, -1.26905523, -1.19366457],\n",
       "        [ 1.389683  ,  0.25828495, -0.69230394,  0.63979497],\n",
       "        [ 0.16298057, -0.14274606,  0.42279669, -0.176118  ],\n",
       "        [ 0.09516837, -0.23222713, -0.46299439, -0.45845922],\n",
       "        [-0.65460297, -0.48109955,  0.39477269,  1.40106382],\n",
       "        [-0.51933086,  0.43402734, -0.16430013, -0.0882108 ]]])"
      ]
     },
     "execution_count": 72,
     "metadata": {},
     "output_type": "execute_result"
    }
   ],
   "source": [
    "#Importing numpy for use with random.\n",
    "import numpy as np\n",
    "\n",
    "#Random values in a given shape.\n",
    "#First int is the number of arrays, second int is the number of rows, third int is the number of columns.\n",
    "np.random.rand(1,6,4)"
   ]
  },
  {
   "cell_type": "markdown",
   "metadata": {},
   "source": [
    "### Example 2 - numpy.random.randn\n",
    "creates an array of specified shape and fills it with random values.\n",
    "<br>numpy.random.randn(d0, d1, ..., dn) \n",
    "<br>numpy.random.randn generates samples from the normal distribution."
   ]
  },
  {
   "cell_type": "code",
   "execution_count": 4,
   "metadata": {},
   "outputs": [
    {
     "data": {
      "text/plain": [
       "array([[[0.29238625, 0.39447856, 0.44336978, 0.96888214],\n",
       "        [0.22279668, 0.10832743, 0.46706559, 0.89315987],\n",
       "        [0.74914119, 0.70399812, 0.70310699, 0.49613076],\n",
       "        [0.23579302, 0.19233779, 0.40177169, 0.45218997],\n",
       "        [0.96772984, 0.74476982, 0.98677547, 0.51476979],\n",
       "        [0.49460008, 0.00843212, 0.17330876, 0.55278692]]])"
      ]
     },
     "execution_count": 4,
     "metadata": {},
     "output_type": "execute_result"
    }
   ],
   "source": [
    "#Importing numpy for use with random.\n",
    "import numpy as np\n",
    "\n",
    "#Random values in a given shape.\n",
    "#First int is the number of arrays, second int is the number of rows, third int is the number of columns.\n",
    "np.random.randn(1,6,4)"
   ]
  },
  {
   "cell_type": "markdown",
   "metadata": {},
   "source": [
    "### Example 3 - numpy.random.bytes\n",
    "Returns random bytes to the length that is specified. Length being the number of random bytes.\n",
    "<br>numpy.random.bytes(length)"
   ]
  },
  {
   "cell_type": "code",
   "execution_count": 5,
   "metadata": {},
   "outputs": [
    {
     "data": {
      "text/plain": [
       "b'n\\xc7v\\xe8\\xa4K\\x0f\\xdd\\xf8j\\xce\\x08\\xd4\\x8466\\x9f\\xe3R\\xc2'"
      ]
     },
     "execution_count": 5,
     "metadata": {},
     "output_type": "execute_result"
    }
   ],
   "source": [
    "#Importing numpy for use with random.\n",
    "import numpy as np\n",
    "\n",
    "#The parameter: int, specifies the number of random bytes.\n",
    "np.random.bytes(20)"
   ]
  },
  {
   "cell_type": "markdown",
   "metadata": {},
   "source": [
    "## Permutations"
   ]
  },
  {
   "cell_type": "markdown",
   "metadata": {},
   "source": [
    "### Example 1 - numpy.random.shuffle\n",
    "Modify a sequence in-place by shuffling its contents. \n",
    "<br>numpy.random.shuffle(x)\n",
    "<br>In a multi-dimensional array, the shuffling occurs on the first axis."
   ]
  },
  {
   "cell_type": "code",
   "execution_count": 13,
   "metadata": {},
   "outputs": [
    {
     "data": {
      "text/plain": [
       "array([10, 17,  7, 15,  5, 11,  4,  9, 13,  8,  1,  6,  3, 12, 19,  2, 18,\n",
       "        0, 14, 16])"
      ]
     },
     "execution_count": 13,
     "metadata": {},
     "output_type": "execute_result"
    }
   ],
   "source": [
    "#Importing numpy for use with permutations.\n",
    "import numpy as np\n",
    "\n",
    "#Returning array values in a given range with np.arange(x).\n",
    "array = np.arange(20)\n",
    "#The array is then shuffled. \n",
    "np.random.shuffle(arr)\n",
    "array"
   ]
  },
  {
   "cell_type": "markdown",
   "metadata": {},
   "source": [
    "### Example 2 - numple.random.permutation\n",
    "Randomly permute a sequence, or return a permuted range. \n",
    "<br>numpy.random.permutation(x)\n",
    "<br>In a multi-dimensional array, the shuffling occurs on the first axis."
   ]
  },
  {
   "cell_type": "code",
   "execution_count": 14,
   "metadata": {},
   "outputs": [
    {
     "data": {
      "text/plain": [
       "array([10,  6,  1, 13, 11, 12,  5,  2, 14,  3, 18, 17, 19, 16,  8,  7,  4,\n",
       "       15,  0,  9])"
      ]
     },
     "execution_count": 14,
     "metadata": {},
     "output_type": "execute_result"
    }
   ],
   "source": [
    "#Importing numpy for use with permutations.\n",
    "import numpy as np\n",
    "\n",
    "#Here the value x is an integer, so it permutes with np.arange(x).\n",
    "np.random.permutation(20)"
   ]
  },
  {
   "cell_type": "code",
   "execution_count": 11,
   "metadata": {},
   "outputs": [
    {
     "data": {
      "text/plain": [
       "array([ 3, 24, 36, 12,  1])"
      ]
     },
     "execution_count": 11,
     "metadata": {},
     "output_type": "execute_result"
    }
   ],
   "source": [
    "#Importing numpy for use with permutations.\n",
    "import numpy as np\n",
    "\n",
    "#In this case, x is an array, so the function will copy this array and shuffle it.\n",
    "np.random.permutation([1, 3, 12, 24, 36])"
   ]
  },
  {
   "cell_type": "markdown",
   "metadata": {},
   "source": [
    "## Distributions"
   ]
  },
  {
   "cell_type": "markdown",
   "metadata": {},
   "source": [
    "### Example 1 - numpy.random.binomial \n",
    "Draw samples from a binomial distribution. \n",
    "<br>numpy.random.binomial(n, p, size=None).\n",
    "<br>The parameter n is the trials. This function is equivalant to the Bernoulli distribution if you pass 1 into n.\n",
    "<br>The parameter p is the probability and if you pass in 0.5 then this will return a \"yes/no\" boolean value. The size parameter simply determines the output shape."
   ]
  },
  {
   "cell_type": "code",
   "execution_count": 26,
   "metadata": {},
   "outputs": [
    {
     "data": {
      "text/plain": [
       "array([1, 0, 0, 0, 1, 0])"
      ]
     },
     "execution_count": 26,
     "metadata": {},
     "output_type": "execute_result"
    }
   ],
   "source": [
    "#Importing numpy for use with distributions\n",
    "import numpy as np\n",
    "\n",
    "np.random.binomial(n=1, p= 0.5, size = 6)"
   ]
  },
  {
   "cell_type": "markdown",
   "metadata": {},
   "source": [
    "### Example 2 - numpy.random.chisquare\n",
    "Draw samples from a chi-square distribution. numpy.random.chisquare(df, size=None)."
   ]
  },
  {
   "cell_type": "code",
   "execution_count": 33,
   "metadata": {},
   "outputs": [
    {
     "data": {
      "text/plain": [
       "array([0.19206086, 0.02541072, 8.541623  , 1.23775156, 1.00880354])"
      ]
     },
     "execution_count": 33,
     "metadata": {},
     "output_type": "execute_result"
    }
   ],
   "source": [
    "import numpy as np\n",
    "\n",
    "np.random.chisquare(2, 5)"
   ]
  },
  {
   "cell_type": "markdown",
   "metadata": {},
   "source": [
    "### Example 3 - numpy.random.gamma\n",
    "Draw samples from a Gamma distribution. numpy.random.gamma(shape, scale=1.0, size=None)."
   ]
  },
  {
   "cell_type": "code",
   "execution_count": 56,
   "metadata": {},
   "outputs": [],
   "source": [
    "import numpy as np\n",
    "\n",
    "shape , scale =  4., 4.\n",
    "s = np.random.gamma(shape, scale, 1000)"
   ]
  },
  {
   "cell_type": "code",
   "execution_count": 57,
   "metadata": {},
   "outputs": [
    {
     "data": {
      "image/png": "[encoded data removed]",
      "text/plain": [
       "<Figure size 432x288 with 1 Axes>"
      ]
     },
     "metadata": {
      "needs_background": "light"
     },
     "output_type": "display_data"
    }
   ],
   "source": [
    "import matplotlib.pyplot as plt\n",
    "import scipy.special as sps\n",
    "\n",
    "count, bins, ignored = plt.hist(s, 50)"
   ]
  },
  {
   "cell_type": "markdown",
   "metadata": {},
   "source": [
    "### Example 4 - numpy.random.poisson\n",
    "Draw samples from a Poisson distribution. numpy.random.poisson(lam=1.0, size=None)."
   ]
  },
  {
   "cell_type": "code",
   "execution_count": 54,
   "metadata": {
    "scrolled": true
   },
   "outputs": [
    {
     "data": {
      "image/png": "[encoded data removed]",
      "text/plain": [
       "<Figure size 432x288 with 1 Axes>"
      ]
     },
     "metadata": {
      "needs_background": "light"
     },
     "output_type": "display_data"
    }
   ],
   "source": [
    "import numpy as np\n",
    "\n",
    "s = np.random.poisson(s, 1000)\n",
    "\n",
    "import matplotlib.pyplot as plt\n",
    "count, bins, ignored = plt.hist(s, 50)\n",
    "plt.show()"
   ]
  },
  {
   "cell_type": "markdown",
   "metadata": {},
   "source": [
    "### Example 5 - numpy.random.wald\n",
    "Draw samples from a Wald, or inverse Gaussian, distribution. numpy.random.wald(mean, scale, size=None)."
   ]
  },
  {
   "cell_type": "code",
   "execution_count": 70,
   "metadata": {},
   "outputs": [
    {
     "data": {
      "image/png": "[encoded data removed]",
      "text/plain": [
       "<Figure size 432x288 with 1 Axes>"
      ]
     },
     "metadata": {
      "needs_background": "light"
     },
     "output_type": "display_data"
    }
   ],
   "source": [
    "import numpy as np\n",
    "import matplotlib.pyplot as plt\n",
    "p = plt.hist(np.random.wald(2, 6, 1000000), bins=300, density=True)\n",
    "plt.show()"
   ]
  },
  {
   "cell_type": "code",
   "execution_count": null,
   "metadata": {},
   "outputs": [],
   "source": []
  },
  {
   "cell_type": "code",
   "execution_count": null,
   "metadata": {},
   "outputs": [],
   "source": []
  }
 ],
 "metadata": {
  "kernelspec": {
   "display_name": "Python 3",
   "language": "python",
   "name": "python3"
  },
  "language_info": {
   "codemirror_mode": {
    "name": "ipython",
    "version": 3
   },
   "file_extension": ".py",
   "mimetype": "text/x-python",
   "name": "python",
   "nbconvert_exporter": "python",
   "pygments_lexer": "ipython3",
   "version": "3.7.0"
  }
 },
 "nbformat": 4,
 "nbformat_minor": 2
}
