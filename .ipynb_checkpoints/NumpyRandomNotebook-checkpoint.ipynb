{
 "cells": [
  {
   "cell_type": "markdown",
   "metadata": {},
   "source": [
    "NumPy is the fundamental package for scientific computing with Python. The random sampling package (numpy.random) is primarily used in generating random data. There are four areas to this package.\n",
    " - Simple random data\n",
    " - Permutations\n",
    " - Distributions\n",
    " - Random generator"
   ]
  },
  {
   "cell_type": "markdown",
   "metadata": {},
   "source": [
    "## Simple Random Data"
   ]
  },
  {
   "cell_type": "markdown",
   "metadata": {},
   "source": [
    "### Example 1 - numpy.random.rand\n",
    "Random values in a given shape.\n",
    "rand(d0, d1, ..., dn)"
   ]
  },
  {
   "cell_type": "code",
   "execution_count": 9,
   "metadata": {},
   "outputs": [
    {
     "data": {
      "text/plain": [
       "array([[[0.98019148, 0.47064081, 0.90504416, 0.90959191],\n",
       "        [0.46045656, 0.6810557 , 0.48919028, 0.25979367],\n",
       "        [0.99331773, 0.69843711, 0.7278575 , 0.04430487],\n",
       "        [0.54615737, 0.44140529, 0.02006629, 0.67872076],\n",
       "        [0.47625411, 0.2867413 , 0.76746643, 0.76385366],\n",
       "        [0.12261698, 0.25169274, 0.13257063, 0.2337981 ]]])"
      ]
     },
     "execution_count": 9,
     "metadata": {},
     "output_type": "execute_result"
    }
   ],
   "source": [
    "import numpy as np\n",
    "\n",
    "np.random.rand(1,6,4)"
   ]
  },
  {
   "cell_type": "markdown",
   "metadata": {},
   "source": [
    "......"
   ]
  },
  {
   "cell_type": "markdown",
   "metadata": {},
   "source": [
    "### Example 2 - numpy.random.randn\n",
    "creates an array of specified shape and fills it with random values as per standard normal distribution.\n",
    "numpy.random.randn(d0, d1, ..., dn) "
   ]
  },
  {
   "cell_type": "code",
   "execution_count": 10,
   "metadata": {},
   "outputs": [
    {
     "data": {
      "text/plain": [
       "array([[[-0.30101293,  0.38047493,  0.60357362,  0.06737506],\n",
       "        [-0.73525991, -0.57448666, -1.34378531,  1.69371944],\n",
       "        [ 1.28920261,  0.06363473,  0.93880759,  1.23265313],\n",
       "        [ 0.22423859,  0.53269588, -1.36562162,  1.48483497],\n",
       "        [ 0.82398152, -0.25051643, -0.90340028, -0.35059097],\n",
       "        [-0.18366732, -1.42626388,  1.26969553,  1.30810688]]])"
      ]
     },
     "execution_count": 10,
     "metadata": {},
     "output_type": "execute_result"
    }
   ],
   "source": [
    "import numpy as np\n",
    "\n",
    "np.random.randn(1,6,4)"
   ]
  },
  {
   "cell_type": "markdown",
   "metadata": {},
   "source": [
    "......."
   ]
  }
 ],
 "metadata": {
  "kernelspec": {
   "display_name": "Python 3",
   "language": "python",
   "name": "python3"
  },
  "language_info": {
   "codemirror_mode": {
    "name": "ipython",
    "version": 3
   },
   "file_extension": ".py",
   "mimetype": "text/x-python",
   "name": "python",
   "nbconvert_exporter": "python",
   "pygments_lexer": "ipython3",
   "version": "3.6.5"
  }
 },
 "nbformat": 4,
 "nbformat_minor": 2
}
