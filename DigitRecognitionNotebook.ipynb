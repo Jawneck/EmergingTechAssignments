{
 "cells": [
  {
   "cell_type": "markdown",
   "metadata": {},
   "source": [
    "# DigitRecognitionNotebook"
   ]
  },
  {
   "cell_type": "markdown",
   "metadata": {},
   "source": [
    "This is the supplementary notebook for the Digit Recognition script."
   ]
  },
  {
   "cell_type": "markdown",
   "metadata": {},
   "source": [
    "## Imports\n",
    "Imports needed for the script to compile."
   ]
  },
  {
   "cell_type": "code",
   "execution_count": 15,
   "metadata": {},
   "outputs": [],
   "source": [
    "#Importing numpy as np.\n",
    "import numpy as np\n",
    "#Importing gzip for use with .gz files.\n",
    "import gzip\n",
    "#Import keras for use with neural network.\n",
    "import keras as kr\n",
    "#Importing sklearn.preprocessing for encoding categorical variables.\n",
    "import sklearn.preprocessing as pre\n",
    "#Importing Sequential, Dense and Dropout for building model.\n",
    "from keras.models import Sequential\n",
    "from keras.layers import Dense, Dropout\n",
    "#Importing Image from python image library for use with images.\n",
    "from PIL import Image"
   ]
  },
  {
   "cell_type": "markdown",
   "metadata": {},
   "source": [
    "## Neural Network"
   ]
  },
  {
   "cell_type": "code",
   "execution_count": 16,
   "metadata": {},
   "outputs": [],
   "source": [
    "def nueralNetwork(userImage):\n",
    "    #Starting a neural network, building it by layers.\n",
    "    model = Sequential()\n",
    "\n",
    "    #https://github.com/keras-team/keras/blob/master/examples/mnist_mlp.py#L53\n",
    "    #Creating a sequential model\n",
    "    model.add(Dense(512, activation='relu', input_dim=784))\n",
    "    model.add(Dropout(0.1))\n",
    "    model.add(Dense(512, activation='relu'))\n",
    "    model.add(Dropout(0.1))\n",
    "    model.add(Dense(units=10, activation='softmax'))\n",
    "\n",
    "    #Printing a summary of the model.\n",
    "    model.summary()\n",
    "\n",
    "    #Building the graph.\n",
    "    model.compile(loss='categorical_crossentropy', optimizer='adam', metrics=['accuracy'])\n",
    "\n",
    "    #Using gzip to open the images in the data file to train the model\n",
    "    with gzip.open('data/train-images-idx3-ubyte.gz', 'rb') as f:\n",
    "        train_img = f.read()\n",
    "\n",
    "    #Using gzip to open the labels in the data file to train the model\n",
    "    with gzip.open('data/train-labels-idx1-ubyte.gz', 'rb') as f:\n",
    "        train_lbl = f.read()\n",
    "\n",
    "    #Reshape images and labels\n",
    "    train_img = np.array(list(train_img[16:])).reshape(60000, 1, 784).astype(np.uint8) / 255.0\n",
    "    train_lbl = np.array(list(train_lbl[ 8:])).astype(np.uint8)\n",
    "\n",
    "    #Reshape image array\n",
    "    inputs = train_img.reshape(60000, 784)\n",
    "\n",
    "    #Binarize labels in a one-vs-all fashion\n",
    "    encoder = pre.LabelBinarizer()#\n",
    "    #Fit label encoder\n",
    "    encoder.fit(train_lbl)\n",
    "    #Transforming labels to normalized encoding.\n",
    "    outputs = encoder.transform(train_lbl)\n",
    "\n",
    "    #Training the model\n",
    "    model.fit(inputs, outputs, epochs=6, batch_size=128)\n",
    "\n",
    "    #Transforming labels back to original encoding and predicting the user image.\n",
    "    print(\"According to the nueral network the digit is: \")\n",
    "    print(encoder.inverse_transform(model.predict(userImage)))\n"
   ]
  },
  {
   "cell_type": "markdown",
   "metadata": {},
   "source": [
    "## User Image"
   ]
  },
  {
   "cell_type": "code",
   "execution_count": 17,
   "metadata": {},
   "outputs": [],
   "source": [
    "def inputImage(userImage):\n",
    "    \n",
    "    #https://www.youtube.com/watch?v=3RVnDX8cO4s\n",
    "    #Reading in an image and converting it to greyscale.\n",
    "    image = Image.open(userImage).convert('L')\n",
    "\n",
    "    #Resizing the image into 28x28 pixels so it is compatible.\n",
    "    image = image.resize((28, 28), Image.BICUBIC)\n",
    "\n",
    "    #https://www.youtube.com/watch?v=DdNvYxtXlD8\n",
    "    #Getting the data from the image\n",
    "    image = list(image.getdata())\n",
    "    \n",
    "    #https://www.youtube.com/watch?v=yi_dDsRqvK0\n",
    "    #Normalize the pixels to 0 and 1. 0 is pure white and 1 is pure black\n",
    "    image = [(255 - x) * 1.0 / 255.0 for x in image]\n",
    "\n",
    "    #Reshaping the image for use with neural network.\n",
    "    image = np.array(list(image)).reshape(1, 784)\n",
    "\n",
    "    #Run the neural network\n",
    "    nueralNetwork(image) "
   ]
  },
  {
   "cell_type": "markdown",
   "metadata": {},
   "source": [
    "## Menu"
   ]
  },
  {
   "cell_type": "code",
   "execution_count": 18,
   "metadata": {},
   "outputs": [],
   "source": [
    "def menu():\n",
    "    #Getting an image from the user.\n",
    "    print(\"Welcome to my nueral network\")\n",
    "    print(\"Enter full path of image including file extension\")\n",
    "    userImage = input(\"\")\n",
    "    inputImage(userImage)"
   ]
  },
  {
   "cell_type": "code",
   "execution_count": null,
   "metadata": {},
   "outputs": [
    {
     "name": "stdout",
     "output_type": "stream",
     "text": [
      "Welcome to my nueral network\n",
      "Enter full path of image including file extension\n"
     ]
    }
   ],
   "source": [
    "menu()"
   ]
  },
  {
   "cell_type": "code",
   "execution_count": null,
   "metadata": {},
   "outputs": [],
   "source": []
  }
 ],
 "metadata": {
  "kernelspec": {
   "display_name": "Python 3",
   "language": "python",
   "name": "python3"
  },
  "language_info": {
   "codemirror_mode": {
    "name": "ipython",
    "version": 3
   },
   "file_extension": ".py",
   "mimetype": "text/x-python",
   "name": "python",
   "nbconvert_exporter": "python",
   "pygments_lexer": "ipython3",
   "version": "3.6.5"
  }
 },
 "nbformat": 4,
 "nbformat_minor": 2
}
