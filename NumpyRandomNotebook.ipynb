{
 "cells": [
  {
   "cell_type": "markdown",
   "metadata": {},
   "source": [
    "NumPy is the fundamental package for scientific computing with Python. The random sampling package (numpy.random) is primarily used in generating random data. There are four areas to this package.\n",
    " - Simple random data\n",
    " - Permutations\n",
    " - Distributions\n",
    " - Random generator"
   ]
  },
  {
   "cell_type": "markdown",
   "metadata": {},
   "source": [
    "## Simple Random Data"
   ]
  },
  {
   "cell_type": "markdown",
   "metadata": {},
   "source": [
    "### Example 1 - numpy.random.rand\n",
    "Random values in a given shape.\n",
    "rand(d0, d1, ..., dn)"
   ]
  },
  {
   "cell_type": "markdown",
   "metadata": {},
   "source": [
    "......."
   ]
  },
  {
   "cell_type": "code",
   "execution_count": 1,
   "metadata": {},
   "outputs": [
    {
     "data": {
      "text/plain": [
       "array([[[-0.64146727,  1.45746133, -0.36974051, -1.32891291],\n",
       "        [-1.50459534,  0.60114585,  0.51114632,  0.18171993],\n",
       "        [-0.48824055,  0.16535787, -0.33255192, -0.89503831],\n",
       "        [-0.08235994,  0.22523524, -0.53264114, -0.66330249],\n",
       "        [-0.10100109, -0.95956279, -0.33618426, -1.6972164 ],\n",
       "        [ 1.86243591,  0.63829327, -0.63426969, -0.17913155]]])"
      ]
     },
     "execution_count": 1,
     "metadata": {},
     "output_type": "execute_result"
    }
   ],
   "source": [
    "import numpy as np\n",
    "\n",
    "np.random.randn(1,6,4)"
   ]
  },
  {
   "cell_type": "markdown",
   "metadata": {},
   "source": [
    "### Example 2 - numpy.random.randn\n",
    "creates an array of specified shape and fills it with random values as per standard normal distribution.\n",
    "numpy.random.randn(d0, d1, ..., dn) "
   ]
  },
  {
   "cell_type": "markdown",
   "metadata": {},
   "source": [
    "......"
   ]
  },
  {
   "cell_type": "code",
   "execution_count": 2,
   "metadata": {},
   "outputs": [
    {
     "data": {
      "text/plain": [
       "array([[[0.98464773, 0.135268  , 0.49062179, 0.38786398],\n",
       "        [0.46614772, 0.60650371, 0.5804092 , 0.4622629 ],\n",
       "        [0.9802807 , 0.86504982, 0.4572529 , 0.46565876],\n",
       "        [0.3619107 , 0.43652915, 0.97362366, 0.00300676],\n",
       "        [0.09607377, 0.17556991, 0.80333858, 0.04493048],\n",
       "        [0.91653533, 0.75136128, 0.3823967 , 0.76778754]]])"
      ]
     },
     "execution_count": 2,
     "metadata": {},
     "output_type": "execute_result"
    }
   ],
   "source": [
    "import numpy as np\n",
    "\n",
    "np.random.rand(1,6,4)"
   ]
  },
  {
   "cell_type": "code",
   "execution_count": null,
   "metadata": {},
   "outputs": [],
   "source": []
  }
 ],
 "metadata": {
  "kernelspec": {
   "display_name": "Python 3",
   "language": "python",
   "name": "python3"
  },
  "language_info": {
   "codemirror_mode": {
    "name": "ipython",
    "version": 3
   },
   "file_extension": ".py",
   "mimetype": "text/x-python",
   "name": "python",
   "nbconvert_exporter": "python",
   "pygments_lexer": "ipython3",
   "version": "3.7.0"
  }
 },
 "nbformat": 4,
 "nbformat_minor": 2
}
