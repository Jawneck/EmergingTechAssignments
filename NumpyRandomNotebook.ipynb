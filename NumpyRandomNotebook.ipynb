{
 "cells": [
  {
   "cell_type": "markdown",
   "metadata": {},
   "source": [
    "# Numpy Random"
   ]
  },
  {
   "cell_type": "markdown",
   "metadata": {},
   "source": [
    "__What is NumPy?__\n",
    "<br>NumPy is an extension of Python, it is the fundamental package for scientific computation with Python. It allows for array oriented computing. It also makes it possible to efficiently implement multi-dimensional arrays. The name NumPy is an acronym for Numerical Python.\n",
    "<br>__What is numpy.random?__\n",
    "<br>The random sampling package (numpy.random) is primarily used in generating random data. There are four areas to this package.\n",
    " - Simple random data\n",
    " - Permutations\n",
    " - Distributions\n",
    " - Random generator"
   ]
  },
  {
   "cell_type": "markdown",
   "metadata": {},
   "source": [
    "## Simple Random Data"
   ]
  },
  {
   "cell_type": "markdown",
   "metadata": {},
   "source": [
    "A subset of a statistical population where everything in that subset has an equal probability of being selected is known as simple random data."
   ]
  },
  {
   "cell_type": "markdown",
   "metadata": {},
   "source": [
    "### Example 1 - numpy.random.rand\n",
    "Creates an array of specified shape and fills it with random values.\n",
    "<br>rand(d0, d1, ..., dn)\n",
    "<br>numpy.random.rand generates samples from the uniform distribution."
   ]
  },
  {
   "cell_type": "code",
   "execution_count": 1,
   "metadata": {},
   "outputs": [
    {
     "data": {
      "text/plain": [
       "array([[[0.04654498, 0.71270784, 0.15833013, 0.763447  ],\n",
       "        [0.65171525, 0.39135893, 0.26374798, 0.6952511 ],\n",
       "        [0.22095618, 0.93553171, 0.54081499, 0.55484363],\n",
       "        [0.17523293, 0.97067916, 0.58063334, 0.68526287],\n",
       "        [0.81392852, 0.91238699, 0.88558392, 0.95196773],\n",
       "        [0.9240099 , 0.49218059, 0.42126662, 0.16217758]]])"
      ]
     },
     "execution_count": 1,
     "metadata": {},
     "output_type": "execute_result"
    }
   ],
   "source": [
    "#Importing numpy for use with random.\n",
    "import numpy as np\n",
    "\n",
    "#Random values in a given shape.\n",
    "#First int is the number of arrays, second int is the number of rows, third int is the number of columns.\n",
    "np.random.rand(1,6,4)"
   ]
  },
  {
   "cell_type": "markdown",
   "metadata": {},
   "source": [
    "### Example 2 - numpy.random.randn\n",
    "creates an array of specified shape and fills it with random values.\n",
    "<br>numpy.random.randn(d0, d1, ..., dn) \n",
    "<br>numpy.random.randn generates samples from the normal distribution."
   ]
  },
  {
   "cell_type": "code",
   "execution_count": 2,
   "metadata": {},
   "outputs": [
    {
     "data": {
      "text/plain": [
       "array([[[-0.14527566,  0.368639  ,  0.72223008,  1.1632086 ],\n",
       "        [-0.42774397,  0.50254433,  1.93621296, -0.1799768 ],\n",
       "        [-0.32423635,  0.43162369, -0.63155722, -1.4422143 ],\n",
       "        [ 1.36774222, -0.49245288,  0.63218868, -0.93122437],\n",
       "        [-0.05404184, -1.89628004,  0.46022113,  0.19724905],\n",
       "        [-0.86038465,  1.82047962, -1.91561629, -0.63684438]]])"
      ]
     },
     "execution_count": 2,
     "metadata": {},
     "output_type": "execute_result"
    }
   ],
   "source": [
    "#Importing numpy for use with random.\n",
    "import numpy as np\n",
    "\n",
    "#Random values in a given shape.\n",
    "#First int is the number of arrays, second int is the number of rows, third int is the number of columns.\n",
    "np.random.randn(1,6,4)"
   ]
  },
  {
   "cell_type": "markdown",
   "metadata": {},
   "source": [
    "### Example 3 - numpy.random.bytes\n",
    "Returns random bytes to the length that is specified. Length being the number of random bytes.\n",
    "<br>numpy.random.bytes(length)"
   ]
  },
  {
   "cell_type": "code",
   "execution_count": 3,
   "metadata": {},
   "outputs": [
    {
     "data": {
      "text/plain": [
       "b'79\\x834\\x8b\\xa4k\\xacy\\x80j\\xa6\\x00\\x107\\x08\\xb5Td/'"
      ]
     },
     "execution_count": 3,
     "metadata": {},
     "output_type": "execute_result"
    }
   ],
   "source": [
    "#Importing numpy for use with random.\n",
    "import numpy as np\n",
    "\n",
    "#The parameter: int, specifies the number of random bytes.\n",
    "np.random.bytes(20)"
   ]
  },
  {
   "cell_type": "markdown",
   "metadata": {},
   "source": [
    "## Permutations"
   ]
  },
  {
   "cell_type": "markdown",
   "metadata": {},
   "source": [
    "### Example 1 - numpy.random.shuffle\n",
    "Modify a sequence in-place by shuffling its contents. \n",
    "<br>numpy.random.shuffle(x)\n",
    "<br>In a multi-dimensional array, the shuffling occurs on the first axis."
   ]
  },
  {
   "cell_type": "code",
   "execution_count": 4,
   "metadata": {},
   "outputs": [
    {
     "ename": "NameError",
     "evalue": "name 'arr' is not defined",
     "output_type": "error",
     "traceback": [
      "\u001b[1;31m---------------------------------------------------------------------------\u001b[0m",
      "\u001b[1;31mNameError\u001b[0m                                 Traceback (most recent call last)",
      "\u001b[1;32m<ipython-input-4-1887be2d77a4>\u001b[0m in \u001b[0;36m<module>\u001b[1;34m\u001b[0m\n\u001b[0;32m      5\u001b[0m \u001b[0marray\u001b[0m \u001b[1;33m=\u001b[0m \u001b[0mnp\u001b[0m\u001b[1;33m.\u001b[0m\u001b[0marange\u001b[0m\u001b[1;33m(\u001b[0m\u001b[1;36m20\u001b[0m\u001b[1;33m)\u001b[0m\u001b[1;33m\u001b[0m\u001b[1;33m\u001b[0m\u001b[0m\n\u001b[0;32m      6\u001b[0m \u001b[1;31m#The array is then shuffled.\u001b[0m\u001b[1;33m\u001b[0m\u001b[1;33m\u001b[0m\u001b[1;33m\u001b[0m\u001b[0m\n\u001b[1;32m----> 7\u001b[1;33m \u001b[0mnp\u001b[0m\u001b[1;33m.\u001b[0m\u001b[0mrandom\u001b[0m\u001b[1;33m.\u001b[0m\u001b[0mshuffle\u001b[0m\u001b[1;33m(\u001b[0m\u001b[0marr\u001b[0m\u001b[1;33m)\u001b[0m\u001b[1;33m\u001b[0m\u001b[1;33m\u001b[0m\u001b[0m\n\u001b[0m\u001b[0;32m      8\u001b[0m \u001b[0marray\u001b[0m\u001b[1;33m\u001b[0m\u001b[1;33m\u001b[0m\u001b[0m\n",
      "\u001b[1;31mNameError\u001b[0m: name 'arr' is not defined"
     ]
    }
   ],
   "source": [
    "#Importing numpy for use with permutations.\n",
    "import numpy as np\n",
    "\n",
    "#Returning array values in a given range with np.arange(x).\n",
    "array = np.arange(20)\n",
    "#The array is then shuffled. \n",
    "np.random.shuffle(arr)\n",
    "array"
   ]
  },
  {
   "cell_type": "markdown",
   "metadata": {},
   "source": [
    "### Example 2 - numple.random.permutation\n",
    "Randomly permute a sequence, or return a permuted range. \n",
    "<br>numpy.random.permutation(x)\n",
    "<br>In a multi-dimensional array, the shuffling occurs on the first axis."
   ]
  },
  {
   "cell_type": "code",
   "execution_count": null,
   "metadata": {},
   "outputs": [],
   "source": [
    "#Importing numpy for use with permutations.\n",
    "import numpy as np\n",
    "\n",
    "#Here the value x is an integer, so it permutes with np.arange(x).\n",
    "np.random.permutation(20)"
   ]
  },
  {
   "cell_type": "code",
   "execution_count": null,
   "metadata": {},
   "outputs": [],
   "source": [
    "#Importing numpy for use with permutations.\n",
    "import numpy as np\n",
    "\n",
    "#In this case, x is an array, so the function will copy this array and shuffle it.\n",
    "np.random.permutation([1, 3, 12, 24, 36])"
   ]
  },
  {
   "cell_type": "markdown",
   "metadata": {},
   "source": [
    "## Distributions"
   ]
  },
  {
   "cell_type": "markdown",
   "metadata": {},
   "source": [
    "### Example 1 - numpy.random.binomial \n",
    "Draw samples from a binomial distribution. \n",
    "<br>numpy.random.binomial(n, p, size=None).\n",
    "<br>The parameter n is the trials. This function is equivalant to the Bernoulli distribution if you pass 1 into n.\n",
    "<br>The parameter p is the probability and if you pass in 0.5 then this will return a \"yes/no\" boolean value. The size parameter simply determines the output shape."
   ]
  },
  {
   "cell_type": "code",
   "execution_count": null,
   "metadata": {},
   "outputs": [],
   "source": [
    "#Importing numpy for use with distributions.\n",
    "import numpy as np\n",
    "\n",
    "\n",
    "np.random.binomial(n=1, p= 0.5, size = 6)"
   ]
  },
  {
   "cell_type": "markdown",
   "metadata": {},
   "source": [
    "### Example 2 - numpy.random.chisquare\n",
    "Draw samples from a chi-square distribution.\n",
    "<br>numpy.random.chisquare(df, size=None).\n",
    "<br>The parameter df is the degrees of freedom and the parameter size simply determines the shape of the output.\n",
    "<br>The independent random varables(normal distribution) of df are all squared and summed.\n",
    "<br>This in-turn gives us chi-square distribution."
   ]
  },
  {
   "cell_type": "code",
   "execution_count": null,
   "metadata": {},
   "outputs": [],
   "source": [
    "#Importing numpy for use with distributions.\n",
    "import numpy as np\n",
    "\n",
    "np.random.chisquare(2, 5)"
   ]
  },
  {
   "cell_type": "markdown",
   "metadata": {},
   "source": [
    "### Example 3 - numpy.random.gamma\n",
    "Draw samples from a Gamma distribution. \n",
    "<br>numpy.random.gamma(shape, scale=1.0, size=None).\n",
    "<br>The parameter shape is the shape of the gamma distribution and should always be greater than 0.\n",
    "<br>The parameter scale is the scale of the gamma distribution and is always greater than 0. size once again determines the shape of the output. "
   ]
  },
  {
   "cell_type": "code",
   "execution_count": null,
   "metadata": {},
   "outputs": [],
   "source": [
    "#Importing numpy for use with distributions.\n",
    "import numpy as np\n",
    "\n",
    "#Defining the shape and scale.\n",
    "shape , scale =  4., 4.\n",
    "#Drawing sample from the gamma distribution.\n",
    "sample = np.random.gamma(shape, scale, 1000)"
   ]
  },
  {
   "cell_type": "code",
   "execution_count": null,
   "metadata": {},
   "outputs": [],
   "source": [
    "#Importing matplotlib.pyplot for plot generation.\n",
    "import matplotlib.pyplot as plt\n",
    "\n",
    "#Displaying the histogram of the samples\n",
    "count, bins, ignored = plt.hist(sample, 50)"
   ]
  },
  {
   "cell_type": "markdown",
   "metadata": {},
   "source": [
    "### Example 4 - numpy.random.poisson\n",
    "Draw samples from a Poisson distribution. \n",
    "<br>numpy.random.poisson(lam=1.0, size=None).\n",
    "<br>The Poisson distribution is the discrete probability distribution(which means there are a finite number of random variables) of the number of events occuring in a given time period, given the average number of times the event occurs over that given period.\n",
    "<br>The parameter lam is the expectation of interval, which is the interval of plausible values. Once again size is the shape of the output."
   ]
  },
  {
   "cell_type": "code",
   "execution_count": null,
   "metadata": {
    "scrolled": true
   },
   "outputs": [],
   "source": [
    "#Importing numpy for use with distributions.\n",
    "import numpy as np\n",
    "\n",
    "#Drawing sample from the poisson distribution.\n",
    "sample = np.random.poisson(4, 1000)\n",
    "\n",
    "#Importing matplotlib.pyplot for plot generation.\n",
    "import matplotlib.pyplot as plt\n",
    "\n",
    "#Displaying the histogram of the samples\n",
    "count, bins, ignored = plt.hist(sample, 10)"
   ]
  },
  {
   "cell_type": "markdown",
   "metadata": {},
   "source": [
    "### Example 5 - numpy.random.wald\n",
    "Draw samples from a Wald, or inverse Gaussian distribution. \n",
    "<br>numpy.random.wald(mean, scale, size=None).\n",
    "<br>The parameter mean is the distribution mean which should always be greater than 0.\n",
    "<br>The parameter scale is the scale of the distribution which should always be greater or equal to 0 and the size parameter determines the shape of the output."
   ]
  },
  {
   "cell_type": "code",
   "execution_count": null,
   "metadata": {
    "scrolled": true
   },
   "outputs": [],
   "source": [
    "#Importing numpy for use with distributions.\n",
    "import numpy as np\n",
    "#Importing matplotlib.pyplot for plot generation.\n",
    "import matplotlib.pyplot as plt\n",
    "\n",
    "#Displaying the histogram\n",
    "p = plt.hist(np.random.wald(2, 6, 1000000), bins=300, density=True)\n",
    "plt.show()"
   ]
  },
  {
   "cell_type": "markdown",
   "metadata": {},
   "source": [
    "## Random Generator"
   ]
  },
  {
   "cell_type": "markdown",
   "metadata": {},
   "source": [
    "### Example 1 - numpy.random.RandomSate\n",
    "Container for the Mersenne Twister pseudo-random number generator.\n",
    "<br>class numpy.random.RandomState(seed=None)\n",
    "<br>The RandomState class provides the most widely used psuedo-random number generator for use with the methods within the numpy.random package"
   ]
  },
  {
   "cell_type": "code",
   "execution_count": null,
   "metadata": {},
   "outputs": [],
   "source": [
    "#Importing numpy for use with random.\n",
    "import numpy as np\n",
    "\n",
    "#A series of randomly generated bytes.\n",
    "np.random.bytes(5)"
   ]
  },
  {
   "cell_type": "markdown",
   "metadata": {},
   "source": [
    "### Example 2 - numpy.random.seed\n",
    "Seed the generator.\n",
    "<br>numpy.random.seed(seed=None)\n",
    "<br>Once RandomState has been initialised, this method is called to seed the generator. However, it can simply be re-called to seed the generator again.\n",
    "<br>The parameter seed must be convertible to 32 bit unsigned integers."
   ]
  },
  {
   "cell_type": "code",
   "execution_count": null,
   "metadata": {},
   "outputs": [],
   "source": [
    "#Importing numpy for use with random.\n",
    "import numpy as np\n",
    "\n",
    "#Seeding the generator\n",
    "np.random.seed(8)\n",
    "\n",
    "seed1 = np.random.bytes(5)\n",
    "\n",
    "#Re-setting the generator\n",
    "np.random.seed(16)\n",
    "\n",
    "seed2 = np.random.bytes(5)\n",
    "\n",
    "#Re-setting the generator\n",
    "np.random.seed(64)\n",
    "\n",
    "seed3 = np.random.bytes(5)\n",
    "\n",
    "#Outputting the three random bytes\n",
    "print(seed1)\n",
    "print(seed2)\n",
    "print(seed3)"
   ]
  },
  {
   "cell_type": "code",
   "execution_count": null,
   "metadata": {},
   "outputs": [],
   "source": []
  }
 ],
 "metadata": {
  "kernelspec": {
   "display_name": "Python 3",
   "language": "python",
   "name": "python3"
  },
  "language_info": {
   "codemirror_mode": {
    "name": "ipython",
    "version": 3
   },
   "file_extension": ".py",
   "mimetype": "text/x-python",
   "name": "python",
   "nbconvert_exporter": "python",
   "pygments_lexer": "ipython3",
   "version": "3.6.7"
  }
 },
 "nbformat": 4,
 "nbformat_minor": 2
}
